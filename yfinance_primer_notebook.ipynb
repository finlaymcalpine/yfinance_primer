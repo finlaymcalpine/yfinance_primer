{
 "cells": [
  {
   "cell_type": "markdown",
   "metadata": {},
   "source": [
    "# yfinance\n",
    "\n",
    "[yfinance](https://pypi.org/project/yfinance/) represents an effective tool for accessing historic stock market data from the Yahoo Finance API, after the original API was removed (this happened a number of years ago). I think Quandl also used to provide some stock data for free (although no longer for the primary exchanges), and the Alphavantage API is still an option - but it is less _pythonic_ (the promise of yfinance).\n",
    "\n",
    "Thus, we'll explore this source of stock data to see what we can do with it. At the moment, I'm going to do a first pass using pandas. I am planning to see how we can work with the data using polars in the future, as I think there may be some speed benefits there if we start looking at data on a more granular temporality."
   ]
  },
  {
   "cell_type": "markdown",
   "metadata": {},
   "source": [
    "### Imports"
   ]
  },
  {
   "cell_type": "code",
   "execution_count": 144,
   "metadata": {},
   "outputs": [],
   "source": [
    "import pandas as pd\n",
    "import numpy as np\n",
    "import yfinance as yf\n",
    "import requests\n",
    "from bs4 import BeautifulSoup\n",
    "import datetime\n",
    "import polars as pl"
   ]
  },
  {
   "cell_type": "markdown",
   "metadata": {},
   "source": [
    "### Scraping Market Cap Data"
   ]
  },
  {
   "cell_type": "markdown",
   "metadata": {},
   "source": [
    "Let's grab some of the major market cap companies from the wikipedia page. We'll manually put the tickers in later, but we could try to pull the tickers in via scraping as well."
   ]
  },
  {
   "cell_type": "code",
   "execution_count": 8,
   "metadata": {},
   "outputs": [],
   "source": [
    "resp = requests.get(\"https://en.wikipedia.org/wiki/List_of_public_corporations_by_market_capitalization\")"
   ]
  },
  {
   "cell_type": "code",
   "execution_count": 11,
   "metadata": {},
   "outputs": [],
   "source": [
    "response = BeautifulSoup(resp.content, \"html.parser\")\n",
    "tables = response.find_all('table', {'class':\"wikitable\"})[1]\n",
    "df = pd.read_html(str(tables))\n",
    "df = pd.DataFrame(df[0])\n",
    "print(df.columns)"
   ]
  },
  {
   "cell_type": "code",
   "execution_count": 69,
   "metadata": {},
   "outputs": [
    {
     "name": "stdout",
     "output_type": "stream",
     "text": [
      "0                 Apple\n",
      "1             Microsoft\n",
      "2              Alphabet\n",
      "3                Amazon\n",
      "4                Nvidia\n",
      "5                 Tesla\n",
      "6    Berkshire Hathaway\n",
      "7                  Meta\n",
      "8                  TSMC\n",
      "9                  Visa\n",
      "Name: 0, dtype: object\n",
      "<class 'pandas.core.series.Series'>\n"
     ]
    }
   ],
   "source": [
    "extract_largest_2q = df[\"Second quarter.1\"].str.extract(r'(^[\\w\\s]+)\\s+\\d').squeeze().str.rstrip()\n",
    "print(extract_largest_2q)"
   ]
  },
  {
   "cell_type": "markdown",
   "metadata": {},
   "source": [
    "### Build List of 10 Tickers"
   ]
  },
  {
   "cell_type": "code",
   "execution_count": 110,
   "metadata": {},
   "outputs": [],
   "source": [
    "\"\"\"\n",
    "Note that, for Yahoo Finance, BRK.A is BRK-A. Not sure of a good way to deal with share classes without trying multiple variants!\n",
    "\"\"\"\n",
    "ticker_list = [\n",
    "    \"AAPL\",\n",
    "    \"MSFT\",\n",
    "    \"GOOGL\",\n",
    "    \"AMZN\",\n",
    "    \"NVDA\",\n",
    "    \"TSLA\",\n",
    "    \"BRK-A\",\n",
    "    \"META\",\n",
    "    \"TSM\",\n",
    "    \"V\",\n",
    "]"
   ]
  },
  {
   "cell_type": "markdown",
   "metadata": {},
   "source": [
    "We can get the data for either a single ticker, or multiple tickers in one pass. The access is similar though slightly more complicated if we grab data for multiple tickers, because we are dealing with higher dimensions."
   ]
  },
  {
   "cell_type": "markdown",
   "metadata": {},
   "source": [
    "Note that, at present, the .info() method seems to be failing (see the discussion [here](https://github.com/ranaroussi/yfinance/issues/1729)). The relevant price methods do still appear to function."
   ]
  },
  {
   "cell_type": "code",
   "execution_count": 85,
   "metadata": {},
   "outputs": [
    {
     "data": {
      "text/html": [
       "<div>\n",
       "<style scoped>\n",
       "    .dataframe tbody tr th:only-of-type {\n",
       "        vertical-align: middle;\n",
       "    }\n",
       "\n",
       "    .dataframe tbody tr th {\n",
       "        vertical-align: top;\n",
       "    }\n",
       "\n",
       "    .dataframe thead th {\n",
       "        text-align: right;\n",
       "    }\n",
       "</style>\n",
       "<table border=\"1\" class=\"dataframe\">\n",
       "  <thead>\n",
       "    <tr style=\"text-align: right;\">\n",
       "      <th></th>\n",
       "      <th>Open</th>\n",
       "      <th>High</th>\n",
       "      <th>Low</th>\n",
       "      <th>Close</th>\n",
       "      <th>Volume</th>\n",
       "      <th>Dividends</th>\n",
       "      <th>Stock Splits</th>\n",
       "    </tr>\n",
       "    <tr>\n",
       "      <th>Date</th>\n",
       "      <th></th>\n",
       "      <th></th>\n",
       "      <th></th>\n",
       "      <th></th>\n",
       "      <th></th>\n",
       "      <th></th>\n",
       "      <th></th>\n",
       "    </tr>\n",
       "  </thead>\n",
       "  <tbody>\n",
       "    <tr>\n",
       "      <th>1980-12-12 00:00:00-05:00</th>\n",
       "      <td>0.099319</td>\n",
       "      <td>0.099751</td>\n",
       "      <td>0.099319</td>\n",
       "      <td>0.099319</td>\n",
       "      <td>469033600</td>\n",
       "      <td>0.00</td>\n",
       "      <td>0.0</td>\n",
       "    </tr>\n",
       "    <tr>\n",
       "      <th>1980-12-15 00:00:00-05:00</th>\n",
       "      <td>0.094569</td>\n",
       "      <td>0.094569</td>\n",
       "      <td>0.094137</td>\n",
       "      <td>0.094137</td>\n",
       "      <td>175884800</td>\n",
       "      <td>0.00</td>\n",
       "      <td>0.0</td>\n",
       "    </tr>\n",
       "    <tr>\n",
       "      <th>1980-12-16 00:00:00-05:00</th>\n",
       "      <td>0.087659</td>\n",
       "      <td>0.087659</td>\n",
       "      <td>0.087228</td>\n",
       "      <td>0.087228</td>\n",
       "      <td>105728000</td>\n",
       "      <td>0.00</td>\n",
       "      <td>0.0</td>\n",
       "    </tr>\n",
       "    <tr>\n",
       "      <th>1980-12-17 00:00:00-05:00</th>\n",
       "      <td>0.089387</td>\n",
       "      <td>0.089818</td>\n",
       "      <td>0.089387</td>\n",
       "      <td>0.089387</td>\n",
       "      <td>86441600</td>\n",
       "      <td>0.00</td>\n",
       "      <td>0.0</td>\n",
       "    </tr>\n",
       "    <tr>\n",
       "      <th>1980-12-18 00:00:00-05:00</th>\n",
       "      <td>0.091978</td>\n",
       "      <td>0.092410</td>\n",
       "      <td>0.091978</td>\n",
       "      <td>0.091978</td>\n",
       "      <td>73449600</td>\n",
       "      <td>0.00</td>\n",
       "      <td>0.0</td>\n",
       "    </tr>\n",
       "    <tr>\n",
       "      <th>...</th>\n",
       "      <td>...</td>\n",
       "      <td>...</td>\n",
       "      <td>...</td>\n",
       "      <td>...</td>\n",
       "      <td>...</td>\n",
       "      <td>...</td>\n",
       "      <td>...</td>\n",
       "    </tr>\n",
       "    <tr>\n",
       "      <th>2023-11-08 00:00:00-05:00</th>\n",
       "      <td>182.110085</td>\n",
       "      <td>183.208629</td>\n",
       "      <td>181.351076</td>\n",
       "      <td>182.649368</td>\n",
       "      <td>49340300</td>\n",
       "      <td>0.00</td>\n",
       "      <td>0.0</td>\n",
       "    </tr>\n",
       "    <tr>\n",
       "      <th>2023-11-09 00:00:00-05:00</th>\n",
       "      <td>182.719278</td>\n",
       "      <td>183.877740</td>\n",
       "      <td>181.570782</td>\n",
       "      <td>182.169998</td>\n",
       "      <td>53763500</td>\n",
       "      <td>0.00</td>\n",
       "      <td>0.0</td>\n",
       "    </tr>\n",
       "    <tr>\n",
       "      <th>2023-11-10 00:00:00-05:00</th>\n",
       "      <td>183.970001</td>\n",
       "      <td>186.570007</td>\n",
       "      <td>183.529999</td>\n",
       "      <td>186.399994</td>\n",
       "      <td>66133400</td>\n",
       "      <td>0.24</td>\n",
       "      <td>0.0</td>\n",
       "    </tr>\n",
       "    <tr>\n",
       "      <th>2023-11-13 00:00:00-05:00</th>\n",
       "      <td>185.820007</td>\n",
       "      <td>186.029999</td>\n",
       "      <td>184.210007</td>\n",
       "      <td>184.800003</td>\n",
       "      <td>43627500</td>\n",
       "      <td>0.00</td>\n",
       "      <td>0.0</td>\n",
       "    </tr>\n",
       "    <tr>\n",
       "      <th>2023-11-14 00:00:00-05:00</th>\n",
       "      <td>187.699997</td>\n",
       "      <td>188.110001</td>\n",
       "      <td>186.304993</td>\n",
       "      <td>187.440002</td>\n",
       "      <td>57242769</td>\n",
       "      <td>0.00</td>\n",
       "      <td>0.0</td>\n",
       "    </tr>\n",
       "  </tbody>\n",
       "</table>\n",
       "<p>10822 rows × 7 columns</p>\n",
       "</div>"
      ],
      "text/plain": [
       "                                 Open        High         Low       Close  \\\n",
       "Date                                                                        \n",
       "1980-12-12 00:00:00-05:00    0.099319    0.099751    0.099319    0.099319   \n",
       "1980-12-15 00:00:00-05:00    0.094569    0.094569    0.094137    0.094137   \n",
       "1980-12-16 00:00:00-05:00    0.087659    0.087659    0.087228    0.087228   \n",
       "1980-12-17 00:00:00-05:00    0.089387    0.089818    0.089387    0.089387   \n",
       "1980-12-18 00:00:00-05:00    0.091978    0.092410    0.091978    0.091978   \n",
       "...                               ...         ...         ...         ...   \n",
       "2023-11-08 00:00:00-05:00  182.110085  183.208629  181.351076  182.649368   \n",
       "2023-11-09 00:00:00-05:00  182.719278  183.877740  181.570782  182.169998   \n",
       "2023-11-10 00:00:00-05:00  183.970001  186.570007  183.529999  186.399994   \n",
       "2023-11-13 00:00:00-05:00  185.820007  186.029999  184.210007  184.800003   \n",
       "2023-11-14 00:00:00-05:00  187.699997  188.110001  186.304993  187.440002   \n",
       "\n",
       "                              Volume  Dividends  Stock Splits  \n",
       "Date                                                           \n",
       "1980-12-12 00:00:00-05:00  469033600       0.00           0.0  \n",
       "1980-12-15 00:00:00-05:00  175884800       0.00           0.0  \n",
       "1980-12-16 00:00:00-05:00  105728000       0.00           0.0  \n",
       "1980-12-17 00:00:00-05:00   86441600       0.00           0.0  \n",
       "1980-12-18 00:00:00-05:00   73449600       0.00           0.0  \n",
       "...                              ...        ...           ...  \n",
       "2023-11-08 00:00:00-05:00   49340300       0.00           0.0  \n",
       "2023-11-09 00:00:00-05:00   53763500       0.00           0.0  \n",
       "2023-11-10 00:00:00-05:00   66133400       0.24           0.0  \n",
       "2023-11-13 00:00:00-05:00   43627500       0.00           0.0  \n",
       "2023-11-14 00:00:00-05:00   57242769       0.00           0.0  \n",
       "\n",
       "[10822 rows x 7 columns]"
      ]
     },
     "execution_count": 85,
     "metadata": {},
     "output_type": "execute_result"
    }
   ],
   "source": [
    "\"\"\"\n",
    "We can get a single ticker (e.g. AAPL) as follows\n",
    "\"\"\"\n",
    "\n",
    "aapl = yf.Ticker(ticker = ticker_list[0])\n",
    "aapl.history(period=\"max\")"
   ]
  },
  {
   "cell_type": "code",
   "execution_count": 90,
   "metadata": {},
   "outputs": [],
   "source": [
    "aapl_prices = aapl.history(period=\"max\")[\"Close\"]"
   ]
  },
  {
   "cell_type": "code",
   "execution_count": 98,
   "metadata": {},
   "outputs": [
    {
     "data": {
      "text/plain": [
       "<AxesSubplot:xlabel='Date'>"
      ]
     },
     "execution_count": 98,
     "metadata": {},
     "output_type": "execute_result"
    },
    {
     "data": {
      "image/png": "[encoded data removed]",
      "text/plain": [
       "<Figure size 432x288 with 1 Axes>"
      ]
     },
     "metadata": {
      "needs_background": "light"
     },
     "output_type": "display_data"
    }
   ],
   "source": [
    "aapl_prices[\"1990-01-01\":].plot()"
   ]
  },
  {
   "cell_type": "markdown",
   "metadata": {},
   "source": [
    "If we want to grab a number of tickers at once, we can pass them as a single string argument to the download() function, as follows"
   ]
  },
  {
   "cell_type": "code",
   "execution_count": 113,
   "metadata": {},
   "outputs": [
    {
     "name": "stdout",
     "output_type": "stream",
     "text": [
      "[*********************100%%**********************]  10 of 10 completed\n"
     ]
    }
   ],
   "source": [
    "today = str(datetime.date.today())\n",
    "top10 = yf.download(\" \".join(ticker_list), start=\"2005-01-01\", end=today)"
   ]
  },
  {
   "cell_type": "code",
   "execution_count": 112,
   "metadata": {},
   "outputs": [
    {
     "data": {
      "text/plain": [
       "Date\n",
       "2005-01-03     18.732998\n",
       "2005-01-04     18.803049\n",
       "2005-01-05     18.761024\n",
       "2005-01-06     18.740004\n",
       "2005-01-07     18.683956\n",
       "                 ...    \n",
       "2023-11-07    360.529999\n",
       "2023-11-08    363.200012\n",
       "2023-11-09    360.690002\n",
       "2023-11-10    369.670013\n",
       "2023-11-13    366.679993\n",
       "Name: Adj Close, Length: 4749, dtype: float64"
      ]
     },
     "execution_count": 112,
     "metadata": {},
     "output_type": "execute_result"
    }
   ],
   "source": [
    "\"\"\"\n",
    "If we called download() with group_by='ticker', then we can view individual ticker info like this. \n",
    "However, it's not the easiest if we want to work with a single value, e.g. Adj Close. So we'll unod that and carry on without that group_by.\n",
    "\"\"\"\n",
    "top10[\"MSFT\"][\"Adj Close\"]"
   ]
  },
  {
   "cell_type": "code",
   "execution_count": 127,
   "metadata": {},
   "outputs": [
    {
     "data": {
      "text/plain": [
       "Date\n",
       "2005-01-03    False\n",
       "2005-01-04    False\n",
       "2005-01-05    False\n",
       "2005-01-06    False\n",
       "2005-01-07    False\n",
       "              ...  \n",
       "2023-11-07     True\n",
       "2023-11-08     True\n",
       "2023-11-09     True\n",
       "2023-11-10     True\n",
       "2023-11-13     True\n",
       "Name: TSLA, Length: 4749, dtype: bool"
      ]
     },
     "execution_count": 127,
     "metadata": {},
     "output_type": "execute_result"
    }
   ],
   "source": [
    "prices = top10[\"Adj Close\"]\n",
    "prices[\"TSLA\"].notna()"
   ]
  },
  {
   "cell_type": "markdown",
   "metadata": {},
   "source": [
    "Now we can see from the above dataframe (and we knew it anyway!) that not all of the companies have a history going back to January 2005. So we want to drop dates that don't have a full history.\n",
    "\n",
    "In fact, we can quickly check the first date for which we have TSLA data by running a quick Polars cell. It was going to be too complicated to figure out the pandas syntax to do this, and I think it is a good indication of some of the strengths of not having an index to deal with!"
   ]
  },
  {
   "cell_type": "code",
   "execution_count": 139,
   "metadata": {},
   "outputs": [
    {
     "data": {
      "text/html": [
       "<div><style>\n",
       ".dataframe > thead > tr > th,\n",
       ".dataframe > tbody > tr > td {\n",
       "  text-align: right;\n",
       "  white-space: pre-wrap;\n",
       "}\n",
       "</style>\n",
       "<small>shape: (1, 1)</small><table border=\"1\" class=\"dataframe\"><thead><tr><th>Date</th></tr><tr><td>datetime[ns]</td></tr></thead><tbody><tr><td>2010-06-29 00:00:00</td></tr></tbody></table></div>"
      ],
      "text/plain": [
       "shape: (1, 1)\n",
       "┌─────────────────────┐\n",
       "│ Date                │\n",
       "│ ---                 │\n",
       "│ datetime[ns]        │\n",
       "╞═════════════════════╡\n",
       "│ 2010-06-29 00:00:00 │\n",
       "└─────────────────────┘"
      ]
     },
     "execution_count": 139,
     "metadata": {},
     "output_type": "execute_result"
    }
   ],
   "source": [
    "prices2 = pl.from_pandas(prices, include_index=True)\n",
    "(prices2.\n",
    "    filter(pl.col(\"TSLA\").is_not_null())\n",
    "    .select(pl.col(\"Date\"))\n",
    "    .min()\n",
    ")"
   ]
  },
  {
   "cell_type": "code",
   "execution_count": 141,
   "metadata": {},
   "outputs": [
    {
     "data": {
      "text/html": [
       "<div>\n",
       "<style scoped>\n",
       "    .dataframe tbody tr th:only-of-type {\n",
       "        vertical-align: middle;\n",
       "    }\n",
       "\n",
       "    .dataframe tbody tr th {\n",
       "        vertical-align: top;\n",
       "    }\n",
       "\n",
       "    .dataframe thead th {\n",
       "        text-align: right;\n",
       "    }\n",
       "</style>\n",
       "<table border=\"1\" class=\"dataframe\">\n",
       "  <thead>\n",
       "    <tr style=\"text-align: right;\">\n",
       "      <th></th>\n",
       "      <th>AAPL</th>\n",
       "      <th>AMZN</th>\n",
       "      <th>BRK-A</th>\n",
       "      <th>GOOGL</th>\n",
       "      <th>META</th>\n",
       "      <th>MSFT</th>\n",
       "      <th>NVDA</th>\n",
       "      <th>TSLA</th>\n",
       "      <th>TSM</th>\n",
       "      <th>V</th>\n",
       "    </tr>\n",
       "    <tr>\n",
       "      <th>Date</th>\n",
       "      <th></th>\n",
       "      <th></th>\n",
       "      <th></th>\n",
       "      <th></th>\n",
       "      <th></th>\n",
       "      <th></th>\n",
       "      <th></th>\n",
       "      <th></th>\n",
       "      <th></th>\n",
       "      <th></th>\n",
       "    </tr>\n",
       "  </thead>\n",
       "  <tbody>\n",
       "    <tr>\n",
       "      <th>2012-05-18</th>\n",
       "      <td>16.056875</td>\n",
       "      <td>10.6925</td>\n",
       "      <td>119850.0</td>\n",
       "      <td>15.025025</td>\n",
       "      <td>38.230000</td>\n",
       "      <td>23.619810</td>\n",
       "      <td>2.770626</td>\n",
       "      <td>1.837333</td>\n",
       "      <td>10.109581</td>\n",
       "      <td>25.950731</td>\n",
       "    </tr>\n",
       "    <tr>\n",
       "      <th>2012-05-21</th>\n",
       "      <td>16.992346</td>\n",
       "      <td>10.9055</td>\n",
       "      <td>120220.0</td>\n",
       "      <td>15.368118</td>\n",
       "      <td>34.029999</td>\n",
       "      <td>24.007153</td>\n",
       "      <td>2.818791</td>\n",
       "      <td>1.918000</td>\n",
       "      <td>10.208695</td>\n",
       "      <td>26.775513</td>\n",
       "    </tr>\n",
       "    <tr>\n",
       "      <th>2012-05-22</th>\n",
       "      <td>16.861860</td>\n",
       "      <td>10.7665</td>\n",
       "      <td>120550.0</td>\n",
       "      <td>15.035035</td>\n",
       "      <td>31.000000</td>\n",
       "      <td>24.015221</td>\n",
       "      <td>2.784388</td>\n",
       "      <td>2.053333</td>\n",
       "      <td>10.194539</td>\n",
       "      <td>27.275454</td>\n",
       "    </tr>\n",
       "    <tr>\n",
       "      <th>2012-05-23</th>\n",
       "      <td>17.273289</td>\n",
       "      <td>10.8640</td>\n",
       "      <td>120455.0</td>\n",
       "      <td>15.251752</td>\n",
       "      <td>32.000000</td>\n",
       "      <td>23.490696</td>\n",
       "      <td>2.853195</td>\n",
       "      <td>2.068000</td>\n",
       "      <td>9.967992</td>\n",
       "      <td>27.455158</td>\n",
       "    </tr>\n",
       "    <tr>\n",
       "      <th>2012-05-24</th>\n",
       "      <td>17.114658</td>\n",
       "      <td>10.7620</td>\n",
       "      <td>120217.0</td>\n",
       "      <td>15.106607</td>\n",
       "      <td>33.029999</td>\n",
       "      <td>23.458416</td>\n",
       "      <td>2.777506</td>\n",
       "      <td>2.018667</td>\n",
       "      <td>9.883039</td>\n",
       "      <td>27.593386</td>\n",
       "    </tr>\n",
       "  </tbody>\n",
       "</table>\n",
       "</div>"
      ],
      "text/plain": [
       "                 AAPL     AMZN     BRK-A      GOOGL       META       MSFT  \\\n",
       "Date                                                                        \n",
       "2012-05-18  16.056875  10.6925  119850.0  15.025025  38.230000  23.619810   \n",
       "2012-05-21  16.992346  10.9055  120220.0  15.368118  34.029999  24.007153   \n",
       "2012-05-22  16.861860  10.7665  120550.0  15.035035  31.000000  24.015221   \n",
       "2012-05-23  17.273289  10.8640  120455.0  15.251752  32.000000  23.490696   \n",
       "2012-05-24  17.114658  10.7620  120217.0  15.106607  33.029999  23.458416   \n",
       "\n",
       "                NVDA      TSLA        TSM          V  \n",
       "Date                                                  \n",
       "2012-05-18  2.770626  1.837333  10.109581  25.950731  \n",
       "2012-05-21  2.818791  1.918000  10.208695  26.775513  \n",
       "2012-05-22  2.784388  2.053333  10.194539  27.275454  \n",
       "2012-05-23  2.853195  2.068000   9.967992  27.455158  \n",
       "2012-05-24  2.777506  2.018667   9.883039  27.593386  "
      ]
     },
     "execution_count": 141,
     "metadata": {},
     "output_type": "execute_result"
    }
   ],
   "source": [
    "prices = prices.dropna(how=\"any\")\n",
    "prices.head()"
   ]
  },
  {
   "cell_type": "code",
   "execution_count": 147,
   "metadata": {},
   "outputs": [
    {
     "data": {
      "text/plain": [
       "<AxesSubplot:xlabel='Date'>"
      ]
     },
     "execution_count": 147,
     "metadata": {},
     "output_type": "execute_result"
    },
    {
     "data": {
      "image/png": "[encoded data removed]",
      "text/plain": [
       "<Figure size 432x288 with 1 Axes>"
      ]
     },
     "metadata": {
      "needs_background": "light"
     },
     "output_type": "display_data"
    }
   ],
   "source": [
    "\"\"\"\n",
    "We'll plot the log of the prices, because BRK-A makes a mess of things\n",
    "\"\"\"\n",
    "np.log(prices).plot()"
   ]
  },
  {
   "cell_type": "markdown",
   "metadata": {},
   "source": [
    "So we have prices for the 10 stocks. But there's not a great deal we can do with prices in their absolute form: as we can see by the incomparability of the price chart above. What does it mean that BRK-A sits way above all the other price series?\n",
    "\n",
    "To learn more, we need to think about returns. Thats's the next thing to calculate."
   ]
  },
  {
   "cell_type": "code",
   "execution_count": 165,
   "metadata": {},
   "outputs": [
    {
     "data": {
      "text/html": [
       "<div>\n",
       "<style scoped>\n",
       "    .dataframe tbody tr th:only-of-type {\n",
       "        vertical-align: middle;\n",
       "    }\n",
       "\n",
       "    .dataframe tbody tr th {\n",
       "        vertical-align: top;\n",
       "    }\n",
       "\n",
       "    .dataframe thead th {\n",
       "        text-align: right;\n",
       "    }\n",
       "</style>\n",
       "<table border=\"1\" class=\"dataframe\">\n",
       "  <thead>\n",
       "    <tr style=\"text-align: right;\">\n",
       "      <th></th>\n",
       "      <th>AAPL</th>\n",
       "      <th>AMZN</th>\n",
       "      <th>BRK-A</th>\n",
       "      <th>GOOGL</th>\n",
       "      <th>META</th>\n",
       "      <th>MSFT</th>\n",
       "      <th>NVDA</th>\n",
       "      <th>TSLA</th>\n",
       "      <th>TSM</th>\n",
       "      <th>V</th>\n",
       "    </tr>\n",
       "    <tr>\n",
       "      <th>Date</th>\n",
       "      <th></th>\n",
       "      <th></th>\n",
       "      <th></th>\n",
       "      <th></th>\n",
       "      <th></th>\n",
       "      <th></th>\n",
       "      <th></th>\n",
       "      <th></th>\n",
       "      <th></th>\n",
       "      <th></th>\n",
       "    </tr>\n",
       "  </thead>\n",
       "  <tbody>\n",
       "    <tr>\n",
       "      <th>2012-05-21</th>\n",
       "      <td>0.056626</td>\n",
       "      <td>0.019725</td>\n",
       "      <td>0.003082</td>\n",
       "      <td>0.022578</td>\n",
       "      <td>-0.116378</td>\n",
       "      <td>0.016266</td>\n",
       "      <td>0.017235</td>\n",
       "      <td>0.042968</td>\n",
       "      <td>0.009756</td>\n",
       "      <td>0.031288</td>\n",
       "    </tr>\n",
       "    <tr>\n",
       "      <th>2012-05-22</th>\n",
       "      <td>-0.007709</td>\n",
       "      <td>-0.012828</td>\n",
       "      <td>0.002741</td>\n",
       "      <td>-0.021912</td>\n",
       "      <td>-0.093255</td>\n",
       "      <td>0.000336</td>\n",
       "      <td>-0.012280</td>\n",
       "      <td>0.068181</td>\n",
       "      <td>-0.001388</td>\n",
       "      <td>0.018499</td>\n",
       "    </tr>\n",
       "    <tr>\n",
       "      <th>2012-05-23</th>\n",
       "      <td>0.024107</td>\n",
       "      <td>0.009015</td>\n",
       "      <td>-0.000788</td>\n",
       "      <td>0.014311</td>\n",
       "      <td>0.031749</td>\n",
       "      <td>-0.022083</td>\n",
       "      <td>0.024411</td>\n",
       "      <td>0.007118</td>\n",
       "      <td>-0.022473</td>\n",
       "      <td>0.006567</td>\n",
       "    </tr>\n",
       "    <tr>\n",
       "      <th>2012-05-24</th>\n",
       "      <td>-0.009226</td>\n",
       "      <td>-0.009433</td>\n",
       "      <td>-0.001978</td>\n",
       "      <td>-0.009562</td>\n",
       "      <td>0.031680</td>\n",
       "      <td>-0.001375</td>\n",
       "      <td>-0.026886</td>\n",
       "      <td>-0.024145</td>\n",
       "      <td>-0.008559</td>\n",
       "      <td>0.005022</td>\n",
       "    </tr>\n",
       "    <tr>\n",
       "      <th>2012-05-25</th>\n",
       "      <td>-0.005374</td>\n",
       "      <td>-0.010978</td>\n",
       "      <td>-0.005982</td>\n",
       "      <td>-0.020299</td>\n",
       "      <td>-0.034497</td>\n",
       "      <td>-0.000344</td>\n",
       "      <td>0.023665</td>\n",
       "      <td>-0.015644</td>\n",
       "      <td>0.001432</td>\n",
       "      <td>-0.003345</td>\n",
       "    </tr>\n",
       "    <tr>\n",
       "      <th>...</th>\n",
       "      <td>...</td>\n",
       "      <td>...</td>\n",
       "      <td>...</td>\n",
       "      <td>...</td>\n",
       "      <td>...</td>\n",
       "      <td>...</td>\n",
       "      <td>...</td>\n",
       "      <td>...</td>\n",
       "      <td>...</td>\n",
       "      <td>...</td>\n",
       "    </tr>\n",
       "    <tr>\n",
       "      <th>2023-11-07</th>\n",
       "      <td>0.014347</td>\n",
       "      <td>0.021031</td>\n",
       "      <td>-0.002225</td>\n",
       "      <td>0.005513</td>\n",
       "      <td>0.009518</td>\n",
       "      <td>0.011157</td>\n",
       "      <td>0.004449</td>\n",
       "      <td>0.013184</td>\n",
       "      <td>-0.002054</td>\n",
       "      <td>0.005243</td>\n",
       "    </tr>\n",
       "    <tr>\n",
       "      <th>2023-11-08</th>\n",
       "      <td>0.005868</td>\n",
       "      <td>-0.004424</td>\n",
       "      <td>0.002624</td>\n",
       "      <td>0.006621</td>\n",
       "      <td>0.003007</td>\n",
       "      <td>0.007379</td>\n",
       "      <td>0.013380</td>\n",
       "      <td>-0.000315</td>\n",
       "      <td>-0.004447</td>\n",
       "      <td>-0.001393</td>\n",
       "    </tr>\n",
       "    <tr>\n",
       "      <th>2023-11-09</th>\n",
       "      <td>-0.002628</td>\n",
       "      <td>-0.010471</td>\n",
       "      <td>0.002967</td>\n",
       "      <td>-0.012210</td>\n",
       "      <td>0.002405</td>\n",
       "      <td>-0.006935</td>\n",
       "      <td>0.008041</td>\n",
       "      <td>-0.056160</td>\n",
       "      <td>-0.004139</td>\n",
       "      <td>-0.009350</td>\n",
       "    </tr>\n",
       "    <tr>\n",
       "      <th>2023-11-10</th>\n",
       "      <td>0.022955</td>\n",
       "      <td>0.020834</td>\n",
       "      <td>0.006907</td>\n",
       "      <td>0.017883</td>\n",
       "      <td>0.025320</td>\n",
       "      <td>0.024592</td>\n",
       "      <td>0.029073</td>\n",
       "      <td>0.021996</td>\n",
       "      <td>0.061587</td>\n",
       "      <td>0.014829</td>\n",
       "    </tr>\n",
       "    <tr>\n",
       "      <th>2023-11-13</th>\n",
       "      <td>-0.008621</td>\n",
       "      <td>-0.006780</td>\n",
       "      <td>-0.001125</td>\n",
       "      <td>-0.003778</td>\n",
       "      <td>0.001277</td>\n",
       "      <td>-0.008121</td>\n",
       "      <td>0.005879</td>\n",
       "      <td>0.041342</td>\n",
       "      <td>-0.010523</td>\n",
       "      <td>-0.002368</td>\n",
       "    </tr>\n",
       "  </tbody>\n",
       "</table>\n",
       "<p>2890 rows × 10 columns</p>\n",
       "</div>"
      ],
      "text/plain": [
       "                AAPL      AMZN     BRK-A     GOOGL      META      MSFT  \\\n",
       "Date                                                                     \n",
       "2012-05-21  0.056626  0.019725  0.003082  0.022578 -0.116378  0.016266   \n",
       "2012-05-22 -0.007709 -0.012828  0.002741 -0.021912 -0.093255  0.000336   \n",
       "2012-05-23  0.024107  0.009015 -0.000788  0.014311  0.031749 -0.022083   \n",
       "2012-05-24 -0.009226 -0.009433 -0.001978 -0.009562  0.031680 -0.001375   \n",
       "2012-05-25 -0.005374 -0.010978 -0.005982 -0.020299 -0.034497 -0.000344   \n",
       "...              ...       ...       ...       ...       ...       ...   \n",
       "2023-11-07  0.014347  0.021031 -0.002225  0.005513  0.009518  0.011157   \n",
       "2023-11-08  0.005868 -0.004424  0.002624  0.006621  0.003007  0.007379   \n",
       "2023-11-09 -0.002628 -0.010471  0.002967 -0.012210  0.002405 -0.006935   \n",
       "2023-11-10  0.022955  0.020834  0.006907  0.017883  0.025320  0.024592   \n",
       "2023-11-13 -0.008621 -0.006780 -0.001125 -0.003778  0.001277 -0.008121   \n",
       "\n",
       "                NVDA      TSLA       TSM         V  \n",
       "Date                                                \n",
       "2012-05-21  0.017235  0.042968  0.009756  0.031288  \n",
       "2012-05-22 -0.012280  0.068181 -0.001388  0.018499  \n",
       "2012-05-23  0.024411  0.007118 -0.022473  0.006567  \n",
       "2012-05-24 -0.026886 -0.024145 -0.008559  0.005022  \n",
       "2012-05-25  0.023665 -0.015644  0.001432 -0.003345  \n",
       "...              ...       ...       ...       ...  \n",
       "2023-11-07  0.004449  0.013184 -0.002054  0.005243  \n",
       "2023-11-08  0.013380 -0.000315 -0.004447 -0.001393  \n",
       "2023-11-09  0.008041 -0.056160 -0.004139 -0.009350  \n",
       "2023-11-10  0.029073  0.021996  0.061587  0.014829  \n",
       "2023-11-13  0.005879  0.041342 -0.010523 -0.002368  \n",
       "\n",
       "[2890 rows x 10 columns]"
      ]
     },
     "execution_count": 165,
     "metadata": {},
     "output_type": "execute_result"
    }
   ],
   "source": [
    "\"\"\"\n",
    "calculate the daily log return for each stock on each day\n",
    "\"\"\"\n",
    "returns = np.log(1+prices.pct_change()).dropna(how='any')\n",
    "returns"
   ]
  },
  {
   "cell_type": "markdown",
   "metadata": {},
   "source": [
    "We'll take the daily data and find the mean of the annualised returns for each stock."
   ]
  },
  {
   "cell_type": "code",
   "execution_count": 167,
   "metadata": {},
   "outputs": [
    {
     "data": {
      "text/plain": [
       "<AxesSubplot:>"
      ]
     },
     "execution_count": 167,
     "metadata": {},
     "output_type": "execute_result"
    },
    {
     "data": {
      "image/png": "[encoded data removed]",
      "text/plain": [
       "<Figure size 432x288 with 1 Axes>"
      ]
     },
     "metadata": {
      "needs_background": "light"
     },
     "output_type": "display_data"
    }
   ],
   "source": [
    "\"\"\"\n",
    "calculate the mean daily return, on an annualised basis. there are 252 trading days in a year, and we divid this by the number of days of data we have to get the number of years for the calculation\n",
    "\"\"\"\n",
    "mean_returns = (1 + returns).prod() ** (252 / returns.count()) - 1\n",
    "mean_returns.plot.barh()"
   ]
  },
  {
   "cell_type": "markdown",
   "metadata": {},
   "source": [
    "We can see from the above data that NVDA and TSLA have considerably higher mean returns over our sample period than most other stocks.\n",
    "\n",
    "But knowing only the mean return for a stock is of limited value. Maybe we would say that a stock with higher mean return is going to have higher expected returns (although this is an oversimplification and is too easy as a method of return prediction)."
   ]
  },
  {
   "cell_type": "markdown",
   "metadata": {},
   "source": []
  }
 ],
 "metadata": {
  "kernelspec": {
   "display_name": "env0",
   "language": "python",
   "name": "python3"
  },
  "language_info": {
   "codemirror_mode": {
    "name": "ipython",
    "version": 3
   },
   "file_extension": ".py",
   "mimetype": "text/x-python",
   "name": "python",
   "nbconvert_exporter": "python",
   "pygments_lexer": "ipython3",
   "version": "3.10.2"
  }
 },
 "nbformat": 4,
 "nbformat_minor": 2
}
